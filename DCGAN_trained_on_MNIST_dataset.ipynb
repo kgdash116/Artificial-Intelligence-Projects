{
  "nbformat": 4,
  "nbformat_minor": 0,
  "metadata": {
    "colab": {
      "name": "DCGAN trained on MNIST dataset.ipynb",
      "provenance": [],
      "collapsed_sections": []
    },
    "kernelspec": {
      "name": "python3",
      "display_name": "Python 3"
    },
    "language_info": {
      "name": "python"
    }
  },
  "cells": [
    {
      "cell_type": "code",
      "execution_count": 1,
      "metadata": {
        "id": "6W5xUACyrNXW"
      },
      "outputs": [],
      "source": [
        "import numpy as np\n",
        "import pandas as pd\n",
        "import matplotlib.pyplot as plt"
      ]
    },
    {
      "cell_type": "code",
      "source": [
        "from tensorflow.keras.datasets import  mnist"
      ],
      "metadata": {
        "id": "-qcU5XiWrc9B"
      },
      "execution_count": 3,
      "outputs": []
    },
    {
      "cell_type": "code",
      "source": [
        "(X_train,y_train),(X_test,y_test)=mnist.load_data()"
      ],
      "metadata": {
        "colab": {
          "base_uri": "https://localhost:8080/"
        },
        "id": "yAZuBsTIrV6_",
        "outputId": "71791def-3595-4b17-b659-593fc85d16f5"
      },
      "execution_count": 4,
      "outputs": [
        {
          "output_type": "stream",
          "name": "stdout",
          "text": [
            "Downloading data from https://storage.googleapis.com/tensorflow/tf-keras-datasets/mnist.npz\n",
            "11493376/11490434 [==============================] - 0s 0us/step\n",
            "11501568/11490434 [==============================] - 0s 0us/step\n"
          ]
        }
      ]
    },
    {
      "cell_type": "markdown",
      "source": [
        "# Reshaping the data"
      ],
      "metadata": {
        "id": "Rp7BWBautIJH"
      }
    },
    {
      "cell_type": "code",
      "source": [
        "X_train=X_train/255"
      ],
      "metadata": {
        "id": "GpCa8CBbtLPE"
      },
      "execution_count": 10,
      "outputs": []
    },
    {
      "cell_type": "markdown",
      "source": [
        "GAN will use tanh function in the last layer so we need the values of X_train between -1  and 1"
      ],
      "metadata": {
        "id": "Ai5pwiQQtUP2"
      }
    },
    {
      "cell_type": "code",
      "source": [
        "X_train.shape"
      ],
      "metadata": {
        "colab": {
          "base_uri": "https://localhost:8080/"
        },
        "id": "9lQCwZjItasN",
        "outputId": "b8542c89-f454-4bda-f13f-69a5a9506c51"
      },
      "execution_count": 12,
      "outputs": [
        {
          "output_type": "execute_result",
          "data": {
            "text/plain": [
              "(60000, 28, 28)"
            ]
          },
          "metadata": {},
          "execution_count": 12
        }
      ]
    },
    {
      "cell_type": "code",
      "source": [
        "X_train=X_train.reshape(-1,28,28,1)*2-1"
      ],
      "metadata": {
        "id": "3WfLvItXt4kF"
      },
      "execution_count": 13,
      "outputs": []
    },
    {
      "cell_type": "code",
      "source": [
        "X_train.min()"
      ],
      "metadata": {
        "colab": {
          "base_uri": "https://localhost:8080/"
        },
        "id": "46pRhQl9vLE4",
        "outputId": "9a5bd0cd-8915-4efd-87c7-bf8dde03c29a"
      },
      "execution_count": 14,
      "outputs": [
        {
          "output_type": "execute_result",
          "data": {
            "text/plain": [
              "-1.0"
            ]
          },
          "metadata": {},
          "execution_count": 14
        }
      ]
    },
    {
      "cell_type": "code",
      "source": [
        "X_train.max()"
      ],
      "metadata": {
        "colab": {
          "base_uri": "https://localhost:8080/"
        },
        "id": "Gm-6DgeXvM4i",
        "outputId": "9eea2fb2-9af8-4ecd-ed0b-3a140d9b9d40"
      },
      "execution_count": 15,
      "outputs": [
        {
          "output_type": "execute_result",
          "data": {
            "text/plain": [
              "1.0"
            ]
          },
          "metadata": {},
          "execution_count": 15
        }
      ]
    },
    {
      "cell_type": "code",
      "source": [
        ""
      ],
      "metadata": {
        "id": "1UxUhWTFvQwJ"
      },
      "execution_count": null,
      "outputs": []
    },
    {
      "cell_type": "code",
      "source": [
        "only_zeros=X_train[y_train==0]"
      ],
      "metadata": {
        "id": "DqlEMo-Xrjqt"
      },
      "execution_count": 16,
      "outputs": []
    },
    {
      "cell_type": "code",
      "source": [
        "only_zeros.shape"
      ],
      "metadata": {
        "colab": {
          "base_uri": "https://localhost:8080/"
        },
        "id": "tvfpNnhErqZ9",
        "outputId": "759536d5-42b1-448d-b5ee-6b55c8542472"
      },
      "execution_count": 17,
      "outputs": [
        {
          "output_type": "execute_result",
          "data": {
            "text/plain": [
              "(5923, 28, 28, 1)"
            ]
          },
          "metadata": {},
          "execution_count": 17
        }
      ]
    },
    {
      "cell_type": "markdown",
      "source": [
        "# Model"
      ],
      "metadata": {
        "id": "JHjBfalprzUa"
      }
    },
    {
      "cell_type": "code",
      "source": [
        "from tensorflow.keras.models import Sequential\n",
        "from tensorflow.keras.layers import Flatten,Dense,LeakyReLU,Dropout,Conv2D,Conv2DTranspose,BatchNormalization,Reshape"
      ],
      "metadata": {
        "id": "6OnGgnwhr08W"
      },
      "execution_count": 19,
      "outputs": []
    },
    {
      "cell_type": "code",
      "source": [
        "import tensorflow as tf\n"
      ],
      "metadata": {
        "id": "5Z1o5yBJwSll"
      },
      "execution_count": 22,
      "outputs": []
    },
    {
      "cell_type": "code",
      "source": [
        "np.random.seed(42)\n",
        "tf.random.set_seed(42)\n",
        "\n",
        "codings_size=100"
      ],
      "metadata": {
        "id": "fsION5cpv-vE"
      },
      "execution_count": 23,
      "outputs": []
    },
    {
      "cell_type": "code",
      "source": [
        "generator=Sequential()\n",
        "generator.add(Dense(7*7*128,input_shape=[codings_size]))\n",
        "generator.add(Reshape([7,7,128]))\n",
        "generator.add(BatchNormalization())\n",
        "generator.add(Conv2DTranspose(64,activation='relu',kernel_size=5,strides=2,padding='same'))\n",
        "generator.add(BatchNormalization())\n",
        "generator.add(Conv2DTranspose(1,kernel_size=5,activation='tanh',padding='same',strides=2))\n"
      ],
      "metadata": {
        "id": "M8NrtEAxr_g1"
      },
      "execution_count": 24,
      "outputs": []
    },
    {
      "cell_type": "code",
      "source": [
        "discriminator=Sequential()\n",
        "discriminator.add(Conv2D(64,input_shape=[28,28,1],activation=LeakyReLU(0.3),padding='same',\n",
        "                         strides=2,kernel_size=5))\n",
        "discriminator.add(Dropout(0.5))\n",
        "discriminator.add(Conv2D(128,padding='same',kernel_size=5,strides=2,activation=LeakyReLU(0.3),\n",
        "                         ))\n",
        "discriminator.add(Dropout(0.5))\n",
        "discriminator.add(Flatten())\n",
        "discriminator.add(Dense(1, activation='sigmoid'))"
      ],
      "metadata": {
        "id": "lxeGgtyMyOuj"
      },
      "execution_count": 25,
      "outputs": []
    },
    {
      "cell_type": "code",
      "source": [
        "GAN=Sequential([generator,discriminator])"
      ],
      "metadata": {
        "id": "tpbO3s-tzYbo"
      },
      "execution_count": 26,
      "outputs": []
    },
    {
      "cell_type": "code",
      "source": [
        "discriminator.compile(loss='binary_crossentropy',optimizer='adam')\n",
        "discriminator.trainable=False"
      ],
      "metadata": {
        "id": "pQoIiHyVzd_R"
      },
      "execution_count": 27,
      "outputs": []
    },
    {
      "cell_type": "code",
      "source": [
        "GAN.compile(loss='binary_crossentropy',optimizer='adam')"
      ],
      "metadata": {
        "id": "B3fdT6DAzuc1"
      },
      "execution_count": 28,
      "outputs": []
    },
    {
      "cell_type": "code",
      "source": [
        "GAN.layers"
      ],
      "metadata": {
        "colab": {
          "base_uri": "https://localhost:8080/"
        },
        "id": "pv3ATyBd0cR6",
        "outputId": "8adc1d95-f321-4ff2-9571-28a95ade802d"
      },
      "execution_count": 29,
      "outputs": [
        {
          "output_type": "execute_result",
          "data": {
            "text/plain": [
              "[<keras.engine.sequential.Sequential at 0x7fbc232b5290>,\n",
              " <keras.engine.sequential.Sequential at 0x7fbc1f442b50>]"
            ]
          },
          "metadata": {},
          "execution_count": 29
        }
      ]
    },
    {
      "cell_type": "code",
      "source": [
        "GAN.layers[0].summary()"
      ],
      "metadata": {
        "colab": {
          "base_uri": "https://localhost:8080/"
        },
        "id": "wCvaEFZn0ei8",
        "outputId": "4420067f-1f9f-4fb4-ab92-9141c2f7d283"
      },
      "execution_count": 30,
      "outputs": [
        {
          "output_type": "stream",
          "name": "stdout",
          "text": [
            "Model: \"sequential\"\n",
            "_________________________________________________________________\n",
            " Layer (type)                Output Shape              Param #   \n",
            "=================================================================\n",
            " dense (Dense)               (None, 6272)              633472    \n",
            "                                                                 \n",
            " reshape (Reshape)           (None, 7, 7, 128)         0         \n",
            "                                                                 \n",
            " batch_normalization (BatchN  (None, 7, 7, 128)        512       \n",
            " ormalization)                                                   \n",
            "                                                                 \n",
            " conv2d_transpose (Conv2DTra  (None, 14, 14, 64)       204864    \n",
            " nspose)                                                         \n",
            "                                                                 \n",
            " batch_normalization_1 (Batc  (None, 14, 14, 64)       256       \n",
            " hNormalization)                                                 \n",
            "                                                                 \n",
            " conv2d_transpose_1 (Conv2DT  (None, 28, 28, 1)        1601      \n",
            " ranspose)                                                       \n",
            "                                                                 \n",
            "=================================================================\n",
            "Total params: 840,705\n",
            "Trainable params: 840,321\n",
            "Non-trainable params: 384\n",
            "_________________________________________________________________\n"
          ]
        }
      ]
    },
    {
      "cell_type": "code",
      "source": [
        "GAN.layers[1].summary()"
      ],
      "metadata": {
        "colab": {
          "base_uri": "https://localhost:8080/"
        },
        "id": "SUDLK9qs0kFv",
        "outputId": "99c3923d-be92-4e8f-df0c-7c360ac13956"
      },
      "execution_count": 31,
      "outputs": [
        {
          "output_type": "stream",
          "name": "stdout",
          "text": [
            "Model: \"sequential_1\"\n",
            "_________________________________________________________________\n",
            " Layer (type)                Output Shape              Param #   \n",
            "=================================================================\n",
            " conv2d (Conv2D)             (None, 14, 14, 64)        1664      \n",
            "                                                                 \n",
            " dropout (Dropout)           (None, 14, 14, 64)        0         \n",
            "                                                                 \n",
            " conv2d_1 (Conv2D)           (None, 7, 7, 128)         204928    \n",
            "                                                                 \n",
            " dropout_1 (Dropout)         (None, 7, 7, 128)         0         \n",
            "                                                                 \n",
            " flatten (Flatten)           (None, 6272)              0         \n",
            "                                                                 \n",
            " dense_1 (Dense)             (None, 1)                 6273      \n",
            "                                                                 \n",
            "=================================================================\n",
            "Total params: 212,865\n",
            "Trainable params: 0\n",
            "Non-trainable params: 212,865\n",
            "_________________________________________________________________\n"
          ]
        }
      ]
    },
    {
      "cell_type": "markdown",
      "source": [
        "# Making Batches"
      ],
      "metadata": {
        "id": "tbB2jd5W00mO"
      }
    },
    {
      "cell_type": "code",
      "source": [
        "batch_size=32"
      ],
      "metadata": {
        "id": "hy7NIF-K03Ko"
      },
      "execution_count": 32,
      "outputs": []
    },
    {
      "cell_type": "code",
      "source": [
        "my_data=only_zeros"
      ],
      "metadata": {
        "id": "bTUNj7Sd05BP"
      },
      "execution_count": 33,
      "outputs": []
    },
    {
      "cell_type": "code",
      "source": [
        "dataset=tf.data.Dataset.from_tensor_slices(my_data).shuffle(buffer_size=1000)"
      ],
      "metadata": {
        "id": "bCgYURLp08dB"
      },
      "execution_count": 34,
      "outputs": []
    },
    {
      "cell_type": "code",
      "source": [
        "type(dataset)"
      ],
      "metadata": {
        "colab": {
          "base_uri": "https://localhost:8080/"
        },
        "id": "ikfw0Ogf1NY4",
        "outputId": "b55606df-c6d6-4cae-9827-bc064bdd6bdd"
      },
      "execution_count": 35,
      "outputs": [
        {
          "output_type": "execute_result",
          "data": {
            "text/plain": [
              "tensorflow.python.data.ops.dataset_ops.ShuffleDataset"
            ]
          },
          "metadata": {},
          "execution_count": 35
        }
      ]
    },
    {
      "cell_type": "code",
      "source": [
        "dataset=dataset.batch(batch_size=batch_size, drop_remainder=True).prefetch(1)"
      ],
      "metadata": {
        "id": "MQ6GWCMn1RuM"
      },
      "execution_count": 36,
      "outputs": []
    },
    {
      "cell_type": "code",
      "source": [
        "epochs=20"
      ],
      "metadata": {
        "id": "fF9n0JP11mHb"
      },
      "execution_count": 37,
      "outputs": []
    },
    {
      "cell_type": "markdown",
      "source": [
        "# Training"
      ],
      "metadata": {
        "id": "VpEvRm7o1xQU"
      }
    },
    {
      "cell_type": "code",
      "source": [
        "from numpy.core.fromnumeric import shape\n",
        "from tensorflow.python.ops.gen_batch_ops import batch\n",
        "generator,discriminator=GAN.layers\n",
        "\n",
        "for epoch in range(epochs):\n",
        "  print(f\"Currently on epoch {epoch+1}\")\n",
        "  i=0\n",
        "  for X_batch in dataset:\n",
        "    i=i+1\n",
        "    \n",
        "    if i%20==0:\n",
        "      print(f\"Currently on batch {i} of {len(my_data)/batch_size}\")\n",
        "\n",
        "\n",
        "    noise=tf.random.normal(shape=[batch_size,codings_size])\n",
        "    gen_images=generator(noise) \n",
        "    X_fake_vs_real=tf.concat([gen_images,tf.dtypes.cast(X_batch,tf.float32)],axis=0)\n",
        "    y1=tf.constant([[0.0]]*batch_size+[[1.0]]*batch_size)\n",
        "    discriminator.trainable=True\n",
        "\n",
        "    discriminator.train_on_batch(X_fake_vs_real,y1)\n",
        "\n",
        "\n",
        "    noise=tf.random.normal(shape=[batch_size,codings_size])\n",
        "    y2=tf.constant([[1.0]]*batch_size)\n",
        "    discriminator.trainable=False\n",
        "    GAN.train_on_batch(noise,y2)\n"
      ],
      "metadata": {
        "colab": {
          "base_uri": "https://localhost:8080/"
        },
        "id": "wdSYJI1J1zAs",
        "outputId": "bf27559d-cbd8-4ce3-b532-1d6c79f9bc5e"
      },
      "execution_count": 39,
      "outputs": [
        {
          "output_type": "stream",
          "name": "stdout",
          "text": [
            "Currently on epoch 1\n",
            "Currently on batch 20 of 185.09375\n",
            "Currently on batch 40 of 185.09375\n",
            "Currently on batch 60 of 185.09375\n",
            "Currently on batch 80 of 185.09375\n",
            "Currently on batch 100 of 185.09375\n",
            "Currently on batch 120 of 185.09375\n",
            "Currently on batch 140 of 185.09375\n",
            "Currently on batch 160 of 185.09375\n",
            "Currently on batch 180 of 185.09375\n",
            "Currently on epoch 2\n",
            "Currently on batch 20 of 185.09375\n",
            "Currently on batch 40 of 185.09375\n",
            "Currently on batch 60 of 185.09375\n",
            "Currently on batch 80 of 185.09375\n",
            "Currently on batch 100 of 185.09375\n",
            "Currently on batch 120 of 185.09375\n",
            "Currently on batch 140 of 185.09375\n",
            "Currently on batch 160 of 185.09375\n",
            "Currently on batch 180 of 185.09375\n",
            "Currently on epoch 3\n",
            "Currently on batch 20 of 185.09375\n",
            "Currently on batch 40 of 185.09375\n",
            "Currently on batch 60 of 185.09375\n",
            "Currently on batch 80 of 185.09375\n",
            "Currently on batch 100 of 185.09375\n",
            "Currently on batch 120 of 185.09375\n",
            "Currently on batch 140 of 185.09375\n",
            "Currently on batch 160 of 185.09375\n",
            "Currently on batch 180 of 185.09375\n",
            "Currently on epoch 4\n",
            "Currently on batch 20 of 185.09375\n",
            "Currently on batch 40 of 185.09375\n",
            "Currently on batch 60 of 185.09375\n",
            "Currently on batch 80 of 185.09375\n",
            "Currently on batch 100 of 185.09375\n",
            "Currently on batch 120 of 185.09375\n",
            "Currently on batch 140 of 185.09375\n",
            "Currently on batch 160 of 185.09375\n",
            "Currently on batch 180 of 185.09375\n",
            "Currently on epoch 5\n",
            "Currently on batch 20 of 185.09375\n",
            "Currently on batch 40 of 185.09375\n",
            "Currently on batch 60 of 185.09375\n",
            "Currently on batch 80 of 185.09375\n",
            "Currently on batch 100 of 185.09375\n",
            "Currently on batch 120 of 185.09375\n",
            "Currently on batch 140 of 185.09375\n",
            "Currently on batch 160 of 185.09375\n",
            "Currently on batch 180 of 185.09375\n",
            "Currently on epoch 6\n",
            "Currently on batch 20 of 185.09375\n",
            "Currently on batch 40 of 185.09375\n",
            "Currently on batch 60 of 185.09375\n",
            "Currently on batch 80 of 185.09375\n",
            "Currently on batch 100 of 185.09375\n",
            "Currently on batch 120 of 185.09375\n",
            "Currently on batch 140 of 185.09375\n",
            "Currently on batch 160 of 185.09375\n",
            "Currently on batch 180 of 185.09375\n",
            "Currently on epoch 7\n",
            "Currently on batch 20 of 185.09375\n",
            "Currently on batch 40 of 185.09375\n",
            "Currently on batch 60 of 185.09375\n",
            "Currently on batch 80 of 185.09375\n",
            "Currently on batch 100 of 185.09375\n",
            "Currently on batch 120 of 185.09375\n",
            "Currently on batch 140 of 185.09375\n",
            "Currently on batch 160 of 185.09375\n",
            "Currently on batch 180 of 185.09375\n",
            "Currently on epoch 8\n",
            "Currently on batch 20 of 185.09375\n",
            "Currently on batch 40 of 185.09375\n",
            "Currently on batch 60 of 185.09375\n",
            "Currently on batch 80 of 185.09375\n",
            "Currently on batch 100 of 185.09375\n",
            "Currently on batch 120 of 185.09375\n",
            "Currently on batch 140 of 185.09375\n",
            "Currently on batch 160 of 185.09375\n",
            "Currently on batch 180 of 185.09375\n",
            "Currently on epoch 9\n",
            "Currently on batch 20 of 185.09375\n",
            "Currently on batch 40 of 185.09375\n",
            "Currently on batch 60 of 185.09375\n",
            "Currently on batch 80 of 185.09375\n",
            "Currently on batch 100 of 185.09375\n",
            "Currently on batch 120 of 185.09375\n",
            "Currently on batch 140 of 185.09375\n",
            "Currently on batch 160 of 185.09375\n",
            "Currently on batch 180 of 185.09375\n",
            "Currently on epoch 10\n",
            "Currently on batch 20 of 185.09375\n",
            "Currently on batch 40 of 185.09375\n",
            "Currently on batch 60 of 185.09375\n",
            "Currently on batch 80 of 185.09375\n",
            "Currently on batch 100 of 185.09375\n",
            "Currently on batch 120 of 185.09375\n",
            "Currently on batch 140 of 185.09375\n",
            "Currently on batch 160 of 185.09375\n",
            "Currently on batch 180 of 185.09375\n",
            "Currently on epoch 11\n",
            "Currently on batch 20 of 185.09375\n",
            "Currently on batch 40 of 185.09375\n",
            "Currently on batch 60 of 185.09375\n",
            "Currently on batch 80 of 185.09375\n",
            "Currently on batch 100 of 185.09375\n",
            "Currently on batch 120 of 185.09375\n",
            "Currently on batch 140 of 185.09375\n",
            "Currently on batch 160 of 185.09375\n",
            "Currently on batch 180 of 185.09375\n",
            "Currently on epoch 12\n",
            "Currently on batch 20 of 185.09375\n",
            "Currently on batch 40 of 185.09375\n",
            "Currently on batch 60 of 185.09375\n",
            "Currently on batch 80 of 185.09375\n",
            "Currently on batch 100 of 185.09375\n",
            "Currently on batch 120 of 185.09375\n",
            "Currently on batch 140 of 185.09375\n",
            "Currently on batch 160 of 185.09375\n",
            "Currently on batch 180 of 185.09375\n",
            "Currently on epoch 13\n",
            "Currently on batch 20 of 185.09375\n",
            "Currently on batch 40 of 185.09375\n",
            "Currently on batch 60 of 185.09375\n",
            "Currently on batch 80 of 185.09375\n",
            "Currently on batch 100 of 185.09375\n",
            "Currently on batch 120 of 185.09375\n",
            "Currently on batch 140 of 185.09375\n",
            "Currently on batch 160 of 185.09375\n",
            "Currently on batch 180 of 185.09375\n",
            "Currently on epoch 14\n",
            "Currently on batch 20 of 185.09375\n",
            "Currently on batch 40 of 185.09375\n",
            "Currently on batch 60 of 185.09375\n",
            "Currently on batch 80 of 185.09375\n",
            "Currently on batch 100 of 185.09375\n",
            "Currently on batch 120 of 185.09375\n",
            "Currently on batch 140 of 185.09375\n",
            "Currently on batch 160 of 185.09375\n",
            "Currently on batch 180 of 185.09375\n",
            "Currently on epoch 15\n",
            "Currently on batch 20 of 185.09375\n",
            "Currently on batch 40 of 185.09375\n",
            "Currently on batch 60 of 185.09375\n",
            "Currently on batch 80 of 185.09375\n",
            "Currently on batch 100 of 185.09375\n",
            "Currently on batch 120 of 185.09375\n",
            "Currently on batch 140 of 185.09375\n",
            "Currently on batch 160 of 185.09375\n",
            "Currently on batch 180 of 185.09375\n",
            "Currently on epoch 16\n",
            "Currently on batch 20 of 185.09375\n",
            "Currently on batch 40 of 185.09375\n",
            "Currently on batch 60 of 185.09375\n",
            "Currently on batch 80 of 185.09375\n",
            "Currently on batch 100 of 185.09375\n",
            "Currently on batch 120 of 185.09375\n",
            "Currently on batch 140 of 185.09375\n",
            "Currently on batch 160 of 185.09375\n",
            "Currently on batch 180 of 185.09375\n",
            "Currently on epoch 17\n",
            "Currently on batch 20 of 185.09375\n",
            "Currently on batch 40 of 185.09375\n",
            "Currently on batch 60 of 185.09375\n",
            "Currently on batch 80 of 185.09375\n",
            "Currently on batch 100 of 185.09375\n",
            "Currently on batch 120 of 185.09375\n",
            "Currently on batch 140 of 185.09375\n",
            "Currently on batch 160 of 185.09375\n",
            "Currently on batch 180 of 185.09375\n",
            "Currently on epoch 18\n",
            "Currently on batch 20 of 185.09375\n",
            "Currently on batch 40 of 185.09375\n",
            "Currently on batch 60 of 185.09375\n",
            "Currently on batch 80 of 185.09375\n",
            "Currently on batch 100 of 185.09375\n",
            "Currently on batch 120 of 185.09375\n",
            "Currently on batch 140 of 185.09375\n",
            "Currently on batch 160 of 185.09375\n",
            "Currently on batch 180 of 185.09375\n",
            "Currently on epoch 19\n",
            "Currently on batch 20 of 185.09375\n",
            "Currently on batch 40 of 185.09375\n",
            "Currently on batch 60 of 185.09375\n",
            "Currently on batch 80 of 185.09375\n",
            "Currently on batch 100 of 185.09375\n",
            "Currently on batch 120 of 185.09375\n",
            "Currently on batch 140 of 185.09375\n",
            "Currently on batch 160 of 185.09375\n",
            "Currently on batch 180 of 185.09375\n",
            "Currently on epoch 20\n",
            "Currently on batch 20 of 185.09375\n",
            "Currently on batch 40 of 185.09375\n",
            "Currently on batch 60 of 185.09375\n",
            "Currently on batch 80 of 185.09375\n",
            "Currently on batch 100 of 185.09375\n",
            "Currently on batch 120 of 185.09375\n",
            "Currently on batch 140 of 185.09375\n",
            "Currently on batch 160 of 185.09375\n",
            "Currently on batch 180 of 185.09375\n"
          ]
        }
      ]
    },
    {
      "cell_type": "code",
      "source": [
        "noise=tf.random.normal(shape=[10,codings_size])"
      ],
      "metadata": {
        "id": "CjVW1Au648dG"
      },
      "execution_count": 40,
      "outputs": []
    },
    {
      "cell_type": "code",
      "source": [
        "noise.shape"
      ],
      "metadata": {
        "colab": {
          "base_uri": "https://localhost:8080/"
        },
        "id": "cmXON1q9-Ub_",
        "outputId": "54571af2-278b-439e-f56b-9a45724f9fa7"
      },
      "execution_count": 41,
      "outputs": [
        {
          "output_type": "execute_result",
          "data": {
            "text/plain": [
              "TensorShape([10, 100])"
            ]
          },
          "metadata": {},
          "execution_count": 41
        }
      ]
    },
    {
      "cell_type": "code",
      "source": [
        "images=generator(noise)"
      ],
      "metadata": {
        "id": "s2aB6Ya5-Y7d"
      },
      "execution_count": 42,
      "outputs": []
    },
    {
      "cell_type": "code",
      "source": [
        "single_image=images[0]"
      ],
      "metadata": {
        "id": "5wHfMhIf-38g"
      },
      "execution_count": 46,
      "outputs": []
    },
    {
      "cell_type": "code",
      "source": [
        "single_image"
      ],
      "metadata": {
        "colab": {
          "base_uri": "https://localhost:8080/"
        },
        "id": "ybKu5AFI-6n1",
        "outputId": "a0a9a0b4-30aa-4087-b475-039fb222472b"
      },
      "execution_count": 47,
      "outputs": [
        {
          "output_type": "execute_result",
          "data": {
            "text/plain": [
              "<tf.Tensor: shape=(28, 28, 1), dtype=float32, numpy=\n",
              "array([[[-0.9271307 ],\n",
              "        [-0.9887961 ],\n",
              "        [-0.9868991 ],\n",
              "        [-0.9945041 ],\n",
              "        [-0.9951267 ],\n",
              "        [-0.9977584 ],\n",
              "        [-0.9919989 ],\n",
              "        [-0.99413615],\n",
              "        [-0.97878337],\n",
              "        [-0.9948405 ],\n",
              "        [-0.99319375],\n",
              "        [-0.9988645 ],\n",
              "        [-0.996593  ],\n",
              "        [-0.99902755],\n",
              "        [-0.99846596],\n",
              "        [-0.9998064 ],\n",
              "        [-0.9998589 ],\n",
              "        [-0.9999937 ],\n",
              "        [-0.99994725],\n",
              "        [-0.9999812 ],\n",
              "        [-0.9998026 ],\n",
              "        [-0.9997436 ],\n",
              "        [-0.9966809 ],\n",
              "        [-0.9987758 ],\n",
              "        [-0.997526  ],\n",
              "        [-0.99967474],\n",
              "        [-0.9959728 ],\n",
              "        [-0.9941177 ]],\n",
              "\n",
              "       [[-0.98751336],\n",
              "        [-0.9995476 ],\n",
              "        [-0.9995934 ],\n",
              "        [-0.9995585 ],\n",
              "        [-0.9993442 ],\n",
              "        [-0.99929595],\n",
              "        [-0.9994992 ],\n",
              "        [-0.999773  ],\n",
              "        [-0.99921334],\n",
              "        [-0.9994869 ],\n",
              "        [-0.99979174],\n",
              "        [-0.9999441 ],\n",
              "        [-0.9998366 ],\n",
              "        [-0.9998848 ],\n",
              "        [-0.999802  ],\n",
              "        [-0.9999786 ],\n",
              "        [-0.9999651 ],\n",
              "        [-0.99999905],\n",
              "        [-0.9999936 ],\n",
              "        [-0.99999934],\n",
              "        [-0.999988  ],\n",
              "        [-0.9999943 ],\n",
              "        [-0.99998873],\n",
              "        [-0.99999577],\n",
              "        [-0.99997425],\n",
              "        [-0.9999836 ],\n",
              "        [-0.9995955 ],\n",
              "        [-0.9959178 ]],\n",
              "\n",
              "       [[-0.9986901 ],\n",
              "        [-0.99984103],\n",
              "        [-0.9999208 ],\n",
              "        [-0.9999355 ],\n",
              "        [-0.9997434 ],\n",
              "        [-0.99967945],\n",
              "        [-0.9997807 ],\n",
              "        [-0.99991906],\n",
              "        [-0.9996298 ],\n",
              "        [-0.9999919 ],\n",
              "        [-0.9999731 ],\n",
              "        [-0.99999875],\n",
              "        [-0.9999881 ],\n",
              "        [-0.99999404],\n",
              "        [-0.9999302 ],\n",
              "        [-0.99999166],\n",
              "        [-0.9999964 ],\n",
              "        [-0.9999986 ],\n",
              "        [-0.9999968 ],\n",
              "        [-1.        ],\n",
              "        [-1.        ],\n",
              "        [-1.        ],\n",
              "        [-1.        ],\n",
              "        [-1.        ],\n",
              "        [-0.9999992 ],\n",
              "        [-0.99999976],\n",
              "        [-0.99997807],\n",
              "        [-0.9995872 ]],\n",
              "\n",
              "       [[-0.99797106],\n",
              "        [-0.99994946],\n",
              "        [-0.99995816],\n",
              "        [-0.99990606],\n",
              "        [-0.99983335],\n",
              "        [-0.99959314],\n",
              "        [-0.99937975],\n",
              "        [-0.9998647 ],\n",
              "        [-0.99962974],\n",
              "        [-0.9999938 ],\n",
              "        [-0.9999874 ],\n",
              "        [-0.9999988 ],\n",
              "        [-0.99998575],\n",
              "        [-0.9999831 ],\n",
              "        [-0.99983406],\n",
              "        [-0.9980777 ],\n",
              "        [-0.99838036],\n",
              "        [-0.9998757 ],\n",
              "        [-0.99998724],\n",
              "        [-1.        ],\n",
              "        [-0.9999994 ],\n",
              "        [-1.        ],\n",
              "        [-0.9999995 ],\n",
              "        [-1.        ],\n",
              "        [-0.9999991 ],\n",
              "        [-0.99999964],\n",
              "        [-0.9999784 ],\n",
              "        [-0.99904555]],\n",
              "\n",
              "       [[-0.99858165],\n",
              "        [-0.9999532 ],\n",
              "        [-0.9999465 ],\n",
              "        [-0.9999598 ],\n",
              "        [-0.9998242 ],\n",
              "        [-0.99956363],\n",
              "        [-0.9996863 ],\n",
              "        [-0.9999416 ],\n",
              "        [-0.9998446 ],\n",
              "        [-0.9999971 ],\n",
              "        [-0.99999124],\n",
              "        [-0.9999912 ],\n",
              "        [-0.99983937],\n",
              "        [-0.9989311 ],\n",
              "        [-0.94896436],\n",
              "        [ 0.96602905],\n",
              "        [ 0.894539  ],\n",
              "        [ 0.943237  ],\n",
              "        [-0.9691529 ],\n",
              "        [-0.99989617],\n",
              "        [-0.99999833],\n",
              "        [-1.        ],\n",
              "        [-1.        ],\n",
              "        [-1.        ],\n",
              "        [-1.        ],\n",
              "        [-1.        ],\n",
              "        [-0.99998164],\n",
              "        [-0.999846  ]],\n",
              "\n",
              "       [[-0.99770683],\n",
              "        [-0.99994045],\n",
              "        [-0.9999341 ],\n",
              "        [-0.9999678 ],\n",
              "        [-0.9999134 ],\n",
              "        [-0.9997016 ],\n",
              "        [-0.99967843],\n",
              "        [-0.999826  ],\n",
              "        [-0.99961   ],\n",
              "        [-0.99993646],\n",
              "        [-0.99981403],\n",
              "        [-0.9988929 ],\n",
              "        [-0.97471654],\n",
              "        [ 0.47723302],\n",
              "        [ 0.989048  ],\n",
              "        [ 0.99999595],\n",
              "        [ 0.9999976 ],\n",
              "        [ 0.99993443],\n",
              "        [ 0.99587   ],\n",
              "        [-0.65004826],\n",
              "        [-0.9981326 ],\n",
              "        [-0.9999966 ],\n",
              "        [-0.99999696],\n",
              "        [-1.        ],\n",
              "        [-0.99999833],\n",
              "        [-0.9999997 ],\n",
              "        [-0.9999984 ],\n",
              "        [-0.999936  ]],\n",
              "\n",
              "       [[-0.99831796],\n",
              "        [-0.99982446],\n",
              "        [-0.9999287 ],\n",
              "        [-0.99999505],\n",
              "        [-0.9999096 ],\n",
              "        [-0.99997497],\n",
              "        [-0.99969983],\n",
              "        [-0.9998211 ],\n",
              "        [-0.9996453 ],\n",
              "        [-0.99969876],\n",
              "        [-0.99833137],\n",
              "        [-0.83282036],\n",
              "        [ 0.20465443],\n",
              "        [ 0.9970184 ],\n",
              "        [ 0.9994071 ],\n",
              "        [ 0.9994503 ],\n",
              "        [ 0.9997387 ],\n",
              "        [ 0.9976967 ],\n",
              "        [ 0.99754333],\n",
              "        [ 0.9009355 ],\n",
              "        [-0.7578711 ],\n",
              "        [-0.9992542 ],\n",
              "        [-0.9999683 ],\n",
              "        [-0.9999999 ],\n",
              "        [-0.9999997 ],\n",
              "        [-1.        ],\n",
              "        [-1.        ],\n",
              "        [-0.99999803]],\n",
              "\n",
              "       [[-0.9966006 ],\n",
              "        [-0.999836  ],\n",
              "        [-0.9998725 ],\n",
              "        [-0.99996626],\n",
              "        [-0.9996338 ],\n",
              "        [-0.9999234 ],\n",
              "        [-0.9995104 ],\n",
              "        [-0.99979794],\n",
              "        [-0.9996004 ],\n",
              "        [-0.99673355],\n",
              "        [-0.9395695 ],\n",
              "        [ 0.8485082 ],\n",
              "        [ 0.9919447 ],\n",
              "        [ 0.99836636],\n",
              "        [ 0.8384194 ],\n",
              "        [-0.7911264 ],\n",
              "        [-0.9018339 ],\n",
              "        [-0.9816411 ],\n",
              "        [-0.5732575 ],\n",
              "        [ 0.35591674],\n",
              "        [ 0.5487644 ],\n",
              "        [-0.97611713],\n",
              "        [-0.9988035 ],\n",
              "        [-0.99999803],\n",
              "        [-0.9999931 ],\n",
              "        [-0.99999964],\n",
              "        [-0.9999985 ],\n",
              "        [-0.999992  ]],\n",
              "\n",
              "       [[-0.99452585],\n",
              "        [-0.9995989 ],\n",
              "        [-0.99976903],\n",
              "        [-0.99981964],\n",
              "        [-0.9993105 ],\n",
              "        [-0.9995658 ],\n",
              "        [-0.9995846 ],\n",
              "        [-0.9995401 ],\n",
              "        [-0.9984248 ],\n",
              "        [-0.9825108 ],\n",
              "        [-0.61790013],\n",
              "        [ 0.9384695 ],\n",
              "        [ 0.9589907 ],\n",
              "        [ 0.29444984],\n",
              "        [-0.94975615],\n",
              "        [-0.9998242 ],\n",
              "        [-0.999704  ],\n",
              "        [-0.9999949 ],\n",
              "        [-0.99871063],\n",
              "        [-0.77768207],\n",
              "        [ 0.7444154 ],\n",
              "        [ 0.4518157 ],\n",
              "        [-0.9871567 ],\n",
              "        [-0.999975  ],\n",
              "        [-0.9999963 ],\n",
              "        [-1.        ],\n",
              "        [-1.        ],\n",
              "        [-0.9999988 ]],\n",
              "\n",
              "       [[-0.9900414 ],\n",
              "        [-0.9988932 ],\n",
              "        [-0.9992391 ],\n",
              "        [-0.99699014],\n",
              "        [-0.9976128 ],\n",
              "        [-0.9990188 ],\n",
              "        [-0.9992803 ],\n",
              "        [-0.9966559 ],\n",
              "        [-0.98819447],\n",
              "        [-0.27701473],\n",
              "        [ 0.33194768],\n",
              "        [ 0.7085219 ],\n",
              "        [-0.7385033 ],\n",
              "        [-0.9911218 ],\n",
              "        [-0.9996927 ],\n",
              "        [-0.9999966 ],\n",
              "        [-0.9999966 ],\n",
              "        [-0.9999998 ],\n",
              "        [-0.99994123],\n",
              "        [-0.9236664 ],\n",
              "        [ 0.30814818],\n",
              "        [ 0.41709715],\n",
              "        [-0.8326768 ],\n",
              "        [-0.999594  ],\n",
              "        [-0.99995565],\n",
              "        [-0.99999416],\n",
              "        [-0.99996084],\n",
              "        [-0.9996845 ]],\n",
              "\n",
              "       [[-0.985033  ],\n",
              "        [-0.9972125 ],\n",
              "        [-0.99836487],\n",
              "        [-0.9977934 ],\n",
              "        [-0.9962899 ],\n",
              "        [-0.9990884 ],\n",
              "        [-0.99815714],\n",
              "        [-0.96628493],\n",
              "        [-0.83803844],\n",
              "        [ 0.7900045 ],\n",
              "        [ 0.45655116],\n",
              "        [-0.9030658 ],\n",
              "        [-0.995366  ],\n",
              "        [-0.99985164],\n",
              "        [-0.9999237 ],\n",
              "        [-0.99999833],\n",
              "        [-0.99999684],\n",
              "        [-1.        ],\n",
              "        [-0.9999614 ],\n",
              "        [-0.9873254 ],\n",
              "        [-0.6055    ],\n",
              "        [ 0.49263442],\n",
              "        [-0.38284907],\n",
              "        [-0.9216231 ],\n",
              "        [-0.9978575 ],\n",
              "        [-0.99998844],\n",
              "        [-0.99995875],\n",
              "        [-0.99990803]],\n",
              "\n",
              "       [[-0.9816121 ],\n",
              "        [-0.997322  ],\n",
              "        [-0.998481  ],\n",
              "        [-0.99907535],\n",
              "        [-0.99818015],\n",
              "        [-0.9987259 ],\n",
              "        [-0.99404323],\n",
              "        [-0.02734709],\n",
              "        [ 0.86548054],\n",
              "        [ 0.97193456],\n",
              "        [-0.63069224],\n",
              "        [-0.99882656],\n",
              "        [-0.99984795],\n",
              "        [-0.9999755 ],\n",
              "        [-0.99994534],\n",
              "        [-0.99998873],\n",
              "        [-0.99986076],\n",
              "        [-0.99994355],\n",
              "        [-0.99878657],\n",
              "        [-0.9543261 ],\n",
              "        [-0.8923925 ],\n",
              "        [ 0.28995314],\n",
              "        [ 0.5071762 ],\n",
              "        [-0.32481554],\n",
              "        [-0.96244305],\n",
              "        [-0.9998717 ],\n",
              "        [-0.9998921 ],\n",
              "        [-0.99970526]],\n",
              "\n",
              "       [[-0.9871379 ],\n",
              "        [-0.9977169 ],\n",
              "        [-0.9991058 ],\n",
              "        [-0.9993335 ],\n",
              "        [-0.9971486 ],\n",
              "        [-0.9960574 ],\n",
              "        [-0.8585815 ],\n",
              "        [ 0.99554455],\n",
              "        [ 0.98820287],\n",
              "        [ 0.73749065],\n",
              "        [-0.96327114],\n",
              "        [-0.9996961 ],\n",
              "        [-0.999858  ],\n",
              "        [-0.9999917 ],\n",
              "        [-0.99996024],\n",
              "        [-0.9991028 ],\n",
              "        [-0.988296  ],\n",
              "        [-0.9757994 ],\n",
              "        [-0.98767644],\n",
              "        [-0.98103684],\n",
              "        [-0.9552273 ],\n",
              "        [ 0.11955424],\n",
              "        [ 0.88896614],\n",
              "        [ 0.9974299 ],\n",
              "        [ 0.1505493 ],\n",
              "        [-0.99906075],\n",
              "        [-0.9998824 ],\n",
              "        [-0.9995634 ]],\n",
              "\n",
              "       [[-0.9942425 ],\n",
              "        [-0.99963146],\n",
              "        [-0.99986345],\n",
              "        [-0.9997897 ],\n",
              "        [-0.9992082 ],\n",
              "        [-0.9232914 ],\n",
              "        [ 0.66420454],\n",
              "        [ 0.99964976],\n",
              "        [ 0.9797762 ],\n",
              "        [-0.7851313 ],\n",
              "        [-0.99800086],\n",
              "        [-0.9999385 ],\n",
              "        [-0.99989796],\n",
              "        [-0.99994767],\n",
              "        [-0.9994902 ],\n",
              "        [-0.95504117],\n",
              "        [-0.7120409 ],\n",
              "        [-0.6923957 ],\n",
              "        [-0.9535167 ],\n",
              "        [-0.97769254],\n",
              "        [-0.97526836],\n",
              "        [ 0.7099559 ],\n",
              "        [ 0.99515176],\n",
              "        [ 0.99933445],\n",
              "        [ 0.5013403 ],\n",
              "        [-0.99958366],\n",
              "        [-0.99977857],\n",
              "        [-0.99739707]],\n",
              "\n",
              "       [[-0.99690986],\n",
              "        [-0.99991035],\n",
              "        [-0.9999696 ],\n",
              "        [-0.99999446],\n",
              "        [-0.9995387 ],\n",
              "        [-0.6700601 ],\n",
              "        [ 0.9555063 ],\n",
              "        [ 0.99826086],\n",
              "        [ 0.5858335 ],\n",
              "        [-0.9795344 ],\n",
              "        [-0.9991899 ],\n",
              "        [-0.99996674],\n",
              "        [-0.9998981 ],\n",
              "        [-0.9999468 ],\n",
              "        [-0.9988915 ],\n",
              "        [-0.91858387],\n",
              "        [-0.5576626 ],\n",
              "        [-0.6865042 ],\n",
              "        [-0.95915157],\n",
              "        [-0.9935904 ],\n",
              "        [-0.95627105],\n",
              "        [ 0.9643756 ],\n",
              "        [ 0.9984052 ],\n",
              "        [ 0.9980285 ],\n",
              "        [-0.03235763],\n",
              "        [-0.9996986 ],\n",
              "        [-0.9997305 ],\n",
              "        [-0.99901634]],\n",
              "\n",
              "       [[-0.99800617],\n",
              "        [-0.99996525],\n",
              "        [-0.99998814],\n",
              "        [-0.99999225],\n",
              "        [-0.9992028 ],\n",
              "        [ 0.379371  ],\n",
              "        [ 0.9054727 ],\n",
              "        [ 0.97323805],\n",
              "        [-0.214186  ],\n",
              "        [-0.9935769 ],\n",
              "        [-0.9991625 ],\n",
              "        [-0.9999743 ],\n",
              "        [-0.99976254],\n",
              "        [-0.9993101 ],\n",
              "        [-0.9937755 ],\n",
              "        [-0.8450927 ],\n",
              "        [-0.72838765],\n",
              "        [-0.93197083],\n",
              "        [-0.9938526 ],\n",
              "        [-0.99433047],\n",
              "        [-0.81265473],\n",
              "        [ 0.9957652 ],\n",
              "        [ 0.9965509 ],\n",
              "        [ 0.90968716],\n",
              "        [-0.87535095],\n",
              "        [-0.99985254],\n",
              "        [-0.9998397 ],\n",
              "        [-0.999334  ]],\n",
              "\n",
              "       [[-0.99881953],\n",
              "        [-0.9999829 ],\n",
              "        [-0.9999904 ],\n",
              "        [-0.9999788 ],\n",
              "        [-0.9964366 ],\n",
              "        [-0.03238997],\n",
              "        [ 0.6858448 ],\n",
              "        [ 0.9708994 ],\n",
              "        [ 0.01127565],\n",
              "        [-0.928164  ],\n",
              "        [-0.99873155],\n",
              "        [-0.9998947 ],\n",
              "        [-0.99941033],\n",
              "        [-0.9984069 ],\n",
              "        [-0.9930637 ],\n",
              "        [-0.9086612 ],\n",
              "        [-0.87971747],\n",
              "        [-0.96948785],\n",
              "        [-0.9927222 ],\n",
              "        [-0.9141026 ],\n",
              "        [ 0.07545914],\n",
              "        [ 0.9956201 ],\n",
              "        [ 0.9672051 ],\n",
              "        [ 0.36398602],\n",
              "        [-0.981909  ],\n",
              "        [-0.9999692 ],\n",
              "        [-0.9999802 ],\n",
              "        [-0.99935424]],\n",
              "\n",
              "       [[-0.99804753],\n",
              "        [-0.999965  ],\n",
              "        [-0.9998959 ],\n",
              "        [-0.9991133 ],\n",
              "        [-0.98529917],\n",
              "        [ 0.38171214],\n",
              "        [ 0.7381493 ],\n",
              "        [ 0.9825059 ],\n",
              "        [ 0.8533059 ],\n",
              "        [-0.69156533],\n",
              "        [-0.9786055 ],\n",
              "        [-0.9990719 ],\n",
              "        [-0.9980852 ],\n",
              "        [-0.9822071 ],\n",
              "        [-0.9657371 ],\n",
              "        [-0.8080924 ],\n",
              "        [-0.8642806 ],\n",
              "        [-0.8925533 ],\n",
              "        [-0.9008147 ],\n",
              "        [-0.02165682],\n",
              "        [ 0.7746483 ],\n",
              "        [ 0.987491  ],\n",
              "        [ 0.6487873 ],\n",
              "        [-0.93221736],\n",
              "        [-0.9978974 ],\n",
              "        [-0.9999853 ],\n",
              "        [-0.99998105],\n",
              "        [-0.9995144 ]],\n",
              "\n",
              "       [[-0.9967308 ],\n",
              "        [-0.9997113 ],\n",
              "        [-0.9998616 ],\n",
              "        [-0.99977165],\n",
              "        [-0.9906492 ],\n",
              "        [-0.6205616 ],\n",
              "        [ 0.42988536],\n",
              "        [ 0.9950403 ],\n",
              "        [ 0.9814357 ],\n",
              "        [ 0.968916  ],\n",
              "        [-0.66072595],\n",
              "        [-0.9576668 ],\n",
              "        [-0.975036  ],\n",
              "        [-0.8653602 ],\n",
              "        [-0.8852302 ],\n",
              "        [-0.66459215],\n",
              "        [-0.6831468 ],\n",
              "        [ 0.04208943],\n",
              "        [-0.22341496],\n",
              "        [ 0.70343494],\n",
              "        [ 0.6863361 ],\n",
              "        [ 0.812681  ],\n",
              "        [-0.5526905 ],\n",
              "        [-0.9883698 ],\n",
              "        [-0.9992692 ],\n",
              "        [-0.9999926 ],\n",
              "        [-0.99999505],\n",
              "        [-0.99998176]],\n",
              "\n",
              "       [[-0.99602294],\n",
              "        [-0.9995853 ],\n",
              "        [-0.9994521 ],\n",
              "        [-0.9984561 ],\n",
              "        [-0.98101115],\n",
              "        [-0.5965639 ],\n",
              "        [ 0.30565   ],\n",
              "        [ 0.9990736 ],\n",
              "        [ 0.99991137],\n",
              "        [ 0.99954885],\n",
              "        [ 0.9445647 ],\n",
              "        [ 0.21568274],\n",
              "        [ 0.3190578 ],\n",
              "        [ 0.43986958],\n",
              "        [-0.19599727],\n",
              "        [ 0.41298637],\n",
              "        [ 0.6723708 ],\n",
              "        [ 0.8394075 ],\n",
              "        [ 0.3423812 ],\n",
              "        [ 0.7163159 ],\n",
              "        [ 0.47027254],\n",
              "        [-0.12321671],\n",
              "        [-0.9627699 ],\n",
              "        [-0.9994248 ],\n",
              "        [-0.99984056],\n",
              "        [-0.9999964 ],\n",
              "        [-0.999994  ],\n",
              "        [-0.99998033]],\n",
              "\n",
              "       [[-0.9944128 ],\n",
              "        [-0.99945354],\n",
              "        [-0.9993337 ],\n",
              "        [-0.99661136],\n",
              "        [-0.97026336],\n",
              "        [-0.8920076 ],\n",
              "        [ 0.2420302 ],\n",
              "        [ 0.99860936],\n",
              "        [ 0.99991405],\n",
              "        [ 0.99969083],\n",
              "        [ 0.9889346 ],\n",
              "        [ 0.9844305 ],\n",
              "        [ 0.98478943],\n",
              "        [ 0.9767574 ],\n",
              "        [ 0.7998531 ],\n",
              "        [ 0.96886355],\n",
              "        [ 0.95714885],\n",
              "        [ 0.90778977],\n",
              "        [ 0.29437703],\n",
              "        [ 0.12219059],\n",
              "        [-0.4730609 ],\n",
              "        [-0.9052712 ],\n",
              "        [-0.9905961 ],\n",
              "        [-0.99948615],\n",
              "        [-0.9999557 ],\n",
              "        [-0.9999995 ],\n",
              "        [-0.9999995 ],\n",
              "        [-0.99999285]],\n",
              "\n",
              "       [[-0.990334  ],\n",
              "        [-0.99887013],\n",
              "        [-0.9966096 ],\n",
              "        [-0.97437537],\n",
              "        [-0.9656426 ],\n",
              "        [-0.93976796],\n",
              "        [-0.65752804],\n",
              "        [ 0.94841325],\n",
              "        [ 0.98829645],\n",
              "        [ 0.97329265],\n",
              "        [ 0.97125214],\n",
              "        [ 0.98159486],\n",
              "        [ 0.995432  ],\n",
              "        [ 0.99414384],\n",
              "        [ 0.99003977],\n",
              "        [ 0.99169135],\n",
              "        [ 0.93586373],\n",
              "        [ 0.34445375],\n",
              "        [-0.7332098 ],\n",
              "        [-0.88858545],\n",
              "        [-0.97199726],\n",
              "        [-0.9939965 ],\n",
              "        [-0.9979144 ],\n",
              "        [-0.9999428 ],\n",
              "        [-0.99999416],\n",
              "        [-0.9999996 ],\n",
              "        [-0.9999979 ],\n",
              "        [-0.9998847 ]],\n",
              "\n",
              "       [[-0.9751162 ],\n",
              "        [-0.9888458 ],\n",
              "        [-0.99295324],\n",
              "        [-0.9826591 ],\n",
              "        [-0.97797626],\n",
              "        [-0.98161256],\n",
              "        [-0.93766814],\n",
              "        [-0.6990704 ],\n",
              "        [-0.2607769 ],\n",
              "        [-0.40303376],\n",
              "        [ 0.23220737],\n",
              "        [ 0.42744026],\n",
              "        [ 0.9056655 ],\n",
              "        [ 0.8865842 ],\n",
              "        [ 0.949415  ],\n",
              "        [ 0.7951375 ],\n",
              "        [ 0.0695056 ],\n",
              "        [-0.7905227 ],\n",
              "        [-0.959791  ],\n",
              "        [-0.9805298 ],\n",
              "        [-0.99389726],\n",
              "        [-0.99664044],\n",
              "        [-0.9995181 ],\n",
              "        [-0.999977  ],\n",
              "        [-0.99999833],\n",
              "        [-1.        ],\n",
              "        [-0.9999995 ],\n",
              "        [-0.9999922 ]],\n",
              "\n",
              "       [[-0.9851122 ],\n",
              "        [-0.99430686],\n",
              "        [-0.9952234 ],\n",
              "        [-0.99235713],\n",
              "        [-0.98487157],\n",
              "        [-0.9958774 ],\n",
              "        [-0.9986012 ],\n",
              "        [-0.99795413],\n",
              "        [-0.99601644],\n",
              "        [-0.9956616 ],\n",
              "        [-0.9972397 ],\n",
              "        [-0.98947036],\n",
              "        [-0.91535366],\n",
              "        [-0.92137945],\n",
              "        [-0.91186184],\n",
              "        [-0.9507408 ],\n",
              "        [-0.9705807 ],\n",
              "        [-0.99294025],\n",
              "        [-0.99709386],\n",
              "        [-0.9984847 ],\n",
              "        [-0.997552  ],\n",
              "        [-0.9984346 ],\n",
              "        [-0.9996983 ],\n",
              "        [-0.9999965 ],\n",
              "        [-0.9999995 ],\n",
              "        [-1.        ],\n",
              "        [-0.9999992 ],\n",
              "        [-0.99998736]],\n",
              "\n",
              "       [[-0.98328024],\n",
              "        [-0.99569243],\n",
              "        [-0.99733144],\n",
              "        [-0.9971863 ],\n",
              "        [-0.997257  ],\n",
              "        [-0.99944013],\n",
              "        [-0.99961704],\n",
              "        [-0.9992955 ],\n",
              "        [-0.9984958 ],\n",
              "        [-0.999614  ],\n",
              "        [-0.9998439 ],\n",
              "        [-0.9998581 ],\n",
              "        [-0.9992954 ],\n",
              "        [-0.9998207 ],\n",
              "        [-0.99940056],\n",
              "        [-0.9986987 ],\n",
              "        [-0.9971359 ],\n",
              "        [-0.99795246],\n",
              "        [-0.99853235],\n",
              "        [-0.99746853],\n",
              "        [-0.9978606 ],\n",
              "        [-0.99972045],\n",
              "        [-0.99996805],\n",
              "        [-0.99999934],\n",
              "        [-0.9999997 ],\n",
              "        [-1.        ],\n",
              "        [-1.        ],\n",
              "        [-0.9999993 ]],\n",
              "\n",
              "       [[-0.9883156 ],\n",
              "        [-0.99666774],\n",
              "        [-0.9981654 ],\n",
              "        [-0.9976578 ],\n",
              "        [-0.99890924],\n",
              "        [-0.9994855 ],\n",
              "        [-0.99803853],\n",
              "        [-0.9958253 ],\n",
              "        [-0.9951501 ],\n",
              "        [-0.9992641 ],\n",
              "        [-0.99974614],\n",
              "        [-0.99992096],\n",
              "        [-0.99993855],\n",
              "        [-0.9999379 ],\n",
              "        [-0.9999135 ],\n",
              "        [-0.99969035],\n",
              "        [-0.9991228 ],\n",
              "        [-0.9957179 ],\n",
              "        [-0.9945681 ],\n",
              "        [-0.99375933],\n",
              "        [-0.9972411 ],\n",
              "        [-0.99880004],\n",
              "        [-0.9998161 ],\n",
              "        [-0.9999972 ],\n",
              "        [-0.9999979 ],\n",
              "        [-1.        ],\n",
              "        [-0.9999995 ],\n",
              "        [-0.99999475]],\n",
              "\n",
              "       [[-0.98740035],\n",
              "        [-0.9976936 ],\n",
              "        [-0.9981716 ],\n",
              "        [-0.99831027],\n",
              "        [-0.9987099 ],\n",
              "        [-0.99917114],\n",
              "        [-0.99734086],\n",
              "        [-0.9935497 ],\n",
              "        [-0.99803   ],\n",
              "        [-0.9990974 ],\n",
              "        [-0.99967176],\n",
              "        [-0.999873  ],\n",
              "        [-0.9999142 ],\n",
              "        [-0.99996233],\n",
              "        [-0.99986094],\n",
              "        [-0.99931186],\n",
              "        [-0.9978316 ],\n",
              "        [-0.99575186],\n",
              "        [-0.9957979 ],\n",
              "        [-0.99630344],\n",
              "        [-0.9982194 ],\n",
              "        [-0.99981374],\n",
              "        [-0.9999679 ],\n",
              "        [-0.9999982 ],\n",
              "        [-0.9999997 ],\n",
              "        [-1.        ],\n",
              "        [-1.        ],\n",
              "        [-0.9999994 ]],\n",
              "\n",
              "       [[-0.97611237],\n",
              "        [-0.99217284],\n",
              "        [-0.9933363 ],\n",
              "        [-0.9962003 ],\n",
              "        [-0.996008  ],\n",
              "        [-0.99423236],\n",
              "        [-0.98219806],\n",
              "        [-0.9753085 ],\n",
              "        [-0.9922231 ],\n",
              "        [-0.99361247],\n",
              "        [-0.99414   ],\n",
              "        [-0.9975121 ],\n",
              "        [-0.998202  ],\n",
              "        [-0.99847966],\n",
              "        [-0.9961593 ],\n",
              "        [-0.99393016],\n",
              "        [-0.9849859 ],\n",
              "        [-0.9845562 ],\n",
              "        [-0.9819    ],\n",
              "        [-0.99249583],\n",
              "        [-0.99645036],\n",
              "        [-0.9989749 ],\n",
              "        [-0.9995129 ],\n",
              "        [-0.99994564],\n",
              "        [-0.99998057],\n",
              "        [-0.9999979 ],\n",
              "        [-0.9999795 ],\n",
              "        [-0.9998832 ]]], dtype=float32)>"
            ]
          },
          "metadata": {},
          "execution_count": 47
        }
      ]
    },
    {
      "cell_type": "code",
      "source": [
        "single_image=single_image.numpy().reshape(28,28)"
      ],
      "metadata": {
        "id": "zdWWEt7I--Xy"
      },
      "execution_count": 50,
      "outputs": []
    },
    {
      "cell_type": "code",
      "source": [
        "plt.imshow(single_image)"
      ],
      "metadata": {
        "colab": {
          "base_uri": "https://localhost:8080/",
          "height": 283
        },
        "id": "M7AxiEpc-jQg",
        "outputId": "27038ac3-46c1-405a-efcd-6b83b80c5c4e"
      },
      "execution_count": 51,
      "outputs": [
        {
          "output_type": "execute_result",
          "data": {
            "text/plain": [
              "<matplotlib.image.AxesImage at 0x7fbc1c48cad0>"
            ]
          },
          "metadata": {},
          "execution_count": 51
        },
        {
          "output_type": "display_data",
          "data": {
            "text/plain": [
              "<Figure size 432x288 with 1 Axes>"
            ],
            "image/png": "[encoded data removed]"
          },
          "metadata": {
            "needs_background": "light"
          }
        }
      ]
    },
    {
      "cell_type": "code",
      "source": [
        "for image in images:\n",
        "  plt.imshow(image.numpy().reshape(28,28))\n",
        "  plt.show()"
      ],
      "metadata": {
        "colab": {
          "base_uri": "https://localhost:8080/",
          "height": 1000
        },
        "id": "sSLewV2y_dTN",
        "outputId": "390c918e-3a1f-4ffc-f9f9-ad6948f779c6"
      },
      "execution_count": 53,
      "outputs": [
        {
          "output_type": "display_data",
          "data": {
            "text/plain": [
              "<Figure size 432x288 with 1 Axes>"
            ],
            "image/png": "[encoded data removed]"
          },
          "metadata": {
            "needs_background": "light"
          }
        },
        {
          "output_type": "display_data",
          "data": {
            "text/plain": [
              "<Figure size 432x288 with 1 Axes>"
            ],
            "image/png": "[encoded data removed]"
          },
          "metadata": {
            "needs_background": "light"
          }
        },
        {
          "output_type": "display_data",
          "data": {
            "text/plain": [
              "<Figure size 432x288 with 1 Axes>"
            ],
            "image/png": "[encoded data removed]"
          },
          "metadata": {
            "needs_background": "light"
          }
        },
        {
          "output_type": "display_data",
          "data": {
            "text/plain": [
              "<Figure size 432x288 with 1 Axes>"
            ],
            "image/png": "[encoded data removed]"
          },
          "metadata": {
            "needs_background": "light"
          }
        },
        {
          "output_type": "display_data",
          "data": {
            "text/plain": [
              "<Figure size 432x288 with 1 Axes>"
            ],
            "image/png": "[encoded data removed]"
          },
          "metadata": {
            "needs_background": "light"
          }
        },
        {
          "output_type": "display_data",
          "data": {
            "text/plain": [
              "<Figure size 432x288 with 1 Axes>"
            ],
            "image/png": "[encoded data removed]"
          },
          "metadata": {
            "needs_background": "light"
          }
        },
        {
          "output_type": "display_data",
          "data": {
            "text/plain": [
              "<Figure size 432x288 with 1 Axes>"
            ],
            "image/png": "[encoded data removed]"
          },
          "metadata": {
            "needs_background": "light"
          }
        },
        {
          "output_type": "display_data",
          "data": {
            "text/plain": [
              "<Figure size 432x288 with 1 Axes>"
            ],
            "image/png": "[encoded data removed]"
          },
          "metadata": {
            "needs_background": "light"
          }
        },
        {
          "output_type": "display_data",
          "data": {
            "text/plain": [
              "<Figure size 432x288 with 1 Axes>"
            ],
            "image/png": "[encoded data removed]"
          },
          "metadata": {
            "needs_background": "light"
          }
        },
        {
          "output_type": "display_data",
          "data": {
            "text/plain": [
              "<Figure size 432x288 with 1 Axes>"
            ],
            "image/png": "[encoded data removed]"
          },
          "metadata": {
            "needs_background": "light"
          }
        }
      ]
    },
    {
      "cell_type": "markdown",
      "source": [
        "**The generator is able to produce adequate results just by noise**<br>\n",
        "**We can easily identify that the produced images are of the number 0**"
      ],
      "metadata": {
        "id": "hpVUTN7T_5Gn"
      }
    }
  ]
}